{
 "cells": [
  {
   "cell_type": "markdown",
   "metadata": {},
   "source": [
    "# Battle of Neighbourhoods - Week 1"
   ]
  },
  {
   "cell_type": "markdown",
   "metadata": {},
   "source": [
    "This notebook consist of two parts."
   ]
  },
  {
   "cell_type": "markdown",
   "metadata": {},
   "source": [
    "#### 1 Introduction/Business Problem"
   ]
  },
  {
   "cell_type": "markdown",
   "metadata": {},
   "source": [
    "1.1 Background"
   ]
  },
  {
   "cell_type": "markdown",
   "metadata": {},
   "source": [
    "1.2 Problem"
   ]
  },
  {
   "cell_type": "markdown",
   "metadata": {},
   "source": [
    "1.3 Interest "
   ]
  },
  {
   "cell_type": "markdown",
   "metadata": {},
   "source": [
    "#### 2 Data Section "
   ]
  },
  {
   "cell_type": "markdown",
   "metadata": {},
   "source": [
    "   2.1 Data Aquisition"
   ]
  },
  {
   "cell_type": "markdown",
   "metadata": {},
   "source": [
    "   2.2 Data cleaning"
   ]
  },
  {
   "cell_type": "markdown",
   "metadata": {},
   "source": [
    "## 1. Introduction/Business Problem"
   ]
  },
  {
   "cell_type": "markdown",
   "metadata": {},
   "source": [
    "### Discussion of the business problem and the audience who would be interested in this project.¶"
   ]
  },
  {
   "cell_type": "markdown",
   "metadata": {},
   "source": [
    "#### 1.1 Background"
   ]
  },
  {
   "cell_type": "markdown",
   "metadata": {},
   "source": [
    "The average Canadian moves about eleven times in their lifetime. This brings us to the\n",
    "question: Do people move until they find a place to settle down where they truly feel happy,\n",
    "or do our wants and needs change over time, prompting us to eventually leave a town we\n",
    "once called home for a new area that will bring us satisfaction? Or, do we too often move to\n",
    "a new area without knowing exactly what we’re getting into, forcing us to turn tail and run at\n",
    "the first sign of discomfort?\n",
    "\n",
    "To minimize the chances of this happening, we should always do proper research when\n",
    "planning our next move in life. Consider the following factors when picking a new place to\n",
    "live so you don’t end up wasting your valuable time and money making a move you’ll end\n",
    "up regretting. Safety is a top concern when moving to a new area. If you don’t feel safe in\n",
    "your own home, you’re not going to be able to enjoy living there."
   ]
  },
  {
   "cell_type": "markdown",
   "metadata": {},
   "source": [
    "#### 1.2 Problem"
   ]
  },
  {
   "cell_type": "markdown",
   "metadata": {},
   "source": [
    "The crime statistics dataset of TORONTO found on Kaggle has crimes in each Neighborhood of Toronto from 2014 to 2019. The year 2019 being the latest we will be considering the data\n",
    "of that year which is actually old information as of now. The crime rates in each borough\n",
    "may have changed over time.\n",
    "\n",
    "This project aims to select the safest borough in Toronto based on the total crimes, explore\n",
    "the neighborhoods to find the 10 most common venues in each\n",
    "neighborhood and finally cluster the neighborhoods using k-mean clustering."
   ]
  },
  {
   "cell_type": "markdown",
   "metadata": {},
   "source": [
    "#### 1.3 Interest"
   ]
  },
  {
   "cell_type": "markdown",
   "metadata": {},
   "source": [
    "Expats who are considering to relocate to Toronto will be interested to identify the safest\n",
    "Borough in Toronto,analyse the Neighborhoods there and explore the common venues around each one ."
   ]
  }
 ],
 "metadata": {
  "kernelspec": {
   "display_name": "Python 3",
   "language": "python",
   "name": "python3"
  },
  "language_info": {
   "codemirror_mode": {
    "name": "ipython",
    "version": 3
   },
   "file_extension": ".py",
   "mimetype": "text/x-python",
   "name": "python",
   "nbconvert_exporter": "python",
   "pygments_lexer": "ipython3",
   "version": "3.7.6"
  }
 },
 "nbformat": 4,
 "nbformat_minor": 4
}
